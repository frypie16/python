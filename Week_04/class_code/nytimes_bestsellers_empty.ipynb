{
 "cells": [
  {
   "cell_type": "markdown",
   "metadata": {},
   "source": [
    "## Live Code: Python Sets\n",
    "\n",
    "In this example we'll play around with call results from the [New York Times Books API](https://developer.nytimes.com/docs/books-product/1/overview) to demonstrate the use of __set operations__ (stay tuned for week 6, to learn more about APIs). \n",
    "\n",
    "With the Book API we can access data from the NY Times Bestseller List\n",
    "The Books API has service, that returns best sellers for a specified date and list-name.\n",
    "The request requires two parameters: {publishing date} and {list}\n",
    "\n",
    "We'll look at following categories: \n",
    "* Hardcover Fiction\n",
    "* Hardcover Nonfiction\n",
    "* Paperback Trade Fiction\n",
    "* Paperback Nonfiction\n",
    "\n",
    "These are updated weekly, we’ll look at lists of the current and previous week for comparison.\n",
    "\n",
    "In the first part of this code we'll create sets of titles for each category and week, in the second section we'll make use of set operations to get insights about the bestsellers. \n",
    "\n",
    "Things that we cand find out:\n",
    "- which books have stayed in the top 15 compared to the previous week? \n",
    "- which titles are newcomers?\n",
    "- ...\n",
    "\n",
    "### Generating Sets"
   ]
  },
  {
   "cell_type": "code",
   "execution_count": 1,
   "metadata": {},
   "outputs": [],
   "source": [
    "# import requests and json libraries\n",
    "import requests\n",
    "import json\n",
    "\n",
    "# this function will make requests to the Books API\n",
    "# and generate sets of bestsellers for different lists\n",
    "# by passing 'date' as an argument, we can later call this function \n",
    "# several times for the lists of the current and the previous weeks\n",
    "def generateSets(date):\n",
    "    \n",
    "    # if you want to play around with the API, please make your own key at https://developer.nytimes.com/\n",
    "    authorized_key = \"QftZeSssSfBqTSFet3RBaTE9inc3iWAw\"\n",
    "    # create list of the categories we want to access:\n",
    "    categories = ['hardcover-fiction', 'hardcover-nonfiction', 'paperback-nonfiction', 'trade-fiction-paperback']\n",
    "    \n",
    "    \"\"\" This is an excerpt of the data structure the API will return:      \n",
    "{(...)\n",
    " (...)\n",
    " 'results': {(...)\n",
    "     (...)\n",
    "     'books': [{(...)\n",
    "         (...)\n",
    "         'title': 'LITTLE FIRES EVERYWHERE',\n",
    "         'contributor': 'by Celeste Ng',\n",
    "    \n",
    "    \"\"\"\n",
    "    \n",
    "    # our goal is to create a set for each of the above categories, \n",
    "    # containing the title of the top 15 books\n",
    "    \n",
    "    # step 1: \n",
    "    # declare a global variable\n",
    "    global bestseller_titles \n",
    "    \n",
    "    # create an empty, nested list (one list for each category)\n",
    "    bestseller_titles = [[],[],[],[]] # they will hold information from the 'title' key \n",
    "    \n",
    "    # step 2: \n",
    "    # populate those lists in a nested while loop:\n",
    "                \n",
    "    \"\"\" PSEUDO CODE: \n",
    "    \n",
    "# iterate through list in 'bestseller_titles': \n",
    "n = 0\n",
    "while n < number of lists in 'bestseller_titles'(4)\n",
    "    call the api_url, and pass category[n]\n",
    "    get the response, and store as json \n",
    "    \n",
    "    # access the 'books' key, define 'path' in json structure\n",
    "    books = data['results']['books']\n",
    "    # iterate through titles in 'books':\n",
    "    j = 0\n",
    "    while j < number of books in 'books':\n",
    "        add books[j]['title'] to bestseller_titles[n]\n",
    "        j += 1\n",
    "        \n",
    "    n += 1 \n",
    "    \n",
    "    \"\"\"\n",
    "\n",
    "    n = 0 # create variable 'n' to count\n",
    "    while n < len(bestseller_titles): # for each empty list 'bestseller_titles'\n",
    "        # call the API-url\n",
    "        # use string formatters to parse in the date ('current'), category (with index 'n'), and the API-key\n",
    "        api_url = \"https://api.nytimes.com/svc/books/v3/lists/{}/{}.json?api-key={}\".format(date, categories[n], authorized_key)\n",
    "\n",
    "        # call the API with requests\n",
    "        response = requests.get(api_url)\n",
    "        # create a variable called 'data' to hold the json formatted result\n",
    "        data = response.json()\n",
    "\n",
    "        # define the 'path' inside the json structure\n",
    "        books = data['results']['books']\n",
    "        \n",
    "        # then iterate through 'titles' in 'books':\n",
    "        j = 0 # create variable 'j' to count\n",
    "        # while 'j' is smaller than the number of books\n",
    "        while j < len(books):\n",
    "            # add the title to the 'nth' list in 'bestseller_titles'\n",
    "            bestseller_titles[n].append(books[j]['title'])\n",
    "            j += 1 # count +1\n",
    "\n",
    "        n += 1 # count +1\n",
    "    \n",
    "    # step 3:\n",
    "    # print the populated lists as a sanity check\n",
    "    print(bestseller_titles)"
   ]
  },
  {
   "cell_type": "code",
   "execution_count": 2,
   "metadata": {},
   "outputs": [
    {
     "name": "stdout",
     "output_type": "stream",
     "text": [
      "[['THE VANISHING HALF', 'WHERE THE CRAWDADS SING', 'THE GUEST LIST', 'CAMINO WINDS', 'THE LIES THAT BIND', 'FAIR WARNING', 'HIDEAWAY', 'IF IT BLEEDS', 'BIG SUMMER', 'WALK THE WIRE', 'AMERICAN DIRT', 'A BURNING', 'THE SILENT PATIENT', 'ALL ADULTS HERE', 'SUCH A FUN AGE'], ['HOW TO BE AN ANTIRACIST', 'UNTAMED', 'BETWEEN THE WORLD AND ME', 'BECOMING', 'THE SPLENDID AND THE VILE', 'ME AND WHITE SUPREMACY', 'UNITED STATES OF SOCIALISM', 'EDUCATED', 'BREATH', 'MY VANISHING COUNTRY', 'HUMANKIND', 'THE MAMBA MENTALITY', 'PLAGUE OF CORRUPTION', \"THE DEVIANT'S WAR\", 'TALKING TO STRANGERS'], ['SO YOU WANT TO TALK ABOUT RACE', 'WHITE FRAGILITY', 'THE COLOR OF LAW', 'THE NEW JIM CROW', 'JUST MERCY', 'STAMPED FROM THE BEGINNING', 'WHY ARE ALL THE BLACK KIDS SITTING TOGETHER IN THE CAFETERIA?', 'BORN A CRIME', 'RAISING WHITE KIDS', 'WHITE RAGE', 'THE BODY KEEPS THE SCORE', 'WAKING UP WHITE', 'ELOQUENT RAGE', 'THE GREAT INFLUENZA', \"MY GRANDMOTHER'S HANDS\"], ['LITTLE FIRES EVERYWHERE', 'NORMAL PEOPLE', 'THEN SHE WAS GONE', 'THE WOMAN IN THE WINDOW', 'CIRCE', 'THE BLUEST EYE', 'HUSH', 'BEACH READ', 'THE TATTOOIST OF AUSCHWITZ', 'BEFORE WE WERE YOURS', 'BELOVED', 'THE FAMILY UPSTAIRS', 'THE NIGHTINGALE', 'AMERICANAH', 'THIS TENDER LAND']]\n",
      "4\n"
     ]
    }
   ],
   "source": [
    "# call the generatSets() function \n",
    "# with 'date' = 'current' to recieve this week's bestseller list\n",
    "generateSets('current')\n",
    "print(len(bestseller_titles))"
   ]
  },
  {
   "cell_type": "code",
   "execution_count": 3,
   "metadata": {},
   "outputs": [
    {
     "name": "stdout",
     "output_type": "stream",
     "text": [
      "Hardcover Fiction, June 21:\n",
      " {'CAMINO WINDS', 'THE VANISHING HALF', 'SUCH A FUN AGE', 'THE GUEST LIST', 'WHERE THE CRAWDADS SING', 'FAIR WARNING', 'BIG SUMMER', 'HIDEAWAY', 'IF IT BLEEDS', 'AMERICAN DIRT', 'A BURNING', 'THE LIES THAT BIND', 'ALL ADULTS HERE', 'THE SILENT PATIENT', 'WALK THE WIRE'}\n",
      "\n",
      "Hardcover Nonfiction, June 21:\n",
      " {'TALKING TO STRANGERS', \"THE DEVIANT'S WAR\", 'BETWEEN THE WORLD AND ME', 'HOW TO BE AN ANTIRACIST', 'THE SPLENDID AND THE VILE', 'EDUCATED', 'BREATH', 'HUMANKIND', 'ME AND WHITE SUPREMACY', 'PLAGUE OF CORRUPTION', 'UNITED STATES OF SOCIALISM', 'UNTAMED', 'MY VANISHING COUNTRY', 'BECOMING', 'THE MAMBA MENTALITY'}\n",
      "\n",
      "Paperback Nonfiction, June 21:\n",
      " {'WHITE RAGE', 'THE NEW JIM CROW', 'WHITE FRAGILITY', 'JUST MERCY', 'SO YOU WANT TO TALK ABOUT RACE', 'THE COLOR OF LAW', 'THE GREAT INFLUENZA', 'THE BODY KEEPS THE SCORE', 'RAISING WHITE KIDS', 'WAKING UP WHITE', \"MY GRANDMOTHER'S HANDS\", 'WHY ARE ALL THE BLACK KIDS SITTING TOGETHER IN THE CAFETERIA?', 'ELOQUENT RAGE', 'BORN A CRIME', 'STAMPED FROM THE BEGINNING'}\n",
      "\n",
      "Paperback Fiction, June 21:\n",
      " {'BELOVED', 'THE NIGHTINGALE', 'HUSH', 'THE FAMILY UPSTAIRS', 'BEFORE WE WERE YOURS', 'THEN SHE WAS GONE', 'NORMAL PEOPLE', 'CIRCE', 'THE TATTOOIST OF AUSCHWITZ', 'LITTLE FIRES EVERYWHERE', 'AMERICANAH', 'THE WOMAN IN THE WINDOW', 'THIS TENDER LAND', 'THE BLUEST EYE', 'BEACH READ'}\n"
     ]
    }
   ],
   "source": [
    "# create a set from each nested list\n",
    "hc_fiction_jun21 = set(bestseller_titles[0]) \n",
    "hc_nonfiction_jun21 = set(bestseller_titles[1])\n",
    "pb_nonfiction_jun21 = set(bestseller_titles[2])\n",
    "pb_fiction_jun21 = set(bestseller_titles[3])\n",
    "\n",
    "print('Hardcover Fiction, June 21:\\n', hc_fiction_jun21)\n",
    "print('\\nHardcover Nonfiction, June 21:\\n', hc_nonfiction_jun21)\n",
    "print('\\nPaperback Nonfiction, June 21:\\n', pb_nonfiction_jun21)\n",
    "print('\\nPaperback Fiction, June 21:\\n', pb_fiction_jun21)"
   ]
  },
  {
   "cell_type": "code",
   "execution_count": 4,
   "metadata": {},
   "outputs": [
    {
     "name": "stdout",
     "output_type": "stream",
     "text": [
      "[['WHERE THE CRAWDADS SING', 'HIDEAWAY', 'FAIR WARNING', 'CAMINO WINDS', 'IF IT BLEEDS', 'BIG SUMMER', 'AMERICAN DIRT', 'WALK THE WIRE', 'ALL ADULTS HERE', 'THE 20TH VICTIM', 'THE SILENT PATIENT', 'THE GIVER OF STARS', 'THE BOOK OF LONGINGS', 'WRATH OF POSEIDON', 'THE LAST TRIAL'], ['UNTAMED', 'PLAGUE OF CORRUPTION', 'BECOMING', 'THE SPLENDID AND THE VILE', 'HOW TO BE AN ANTIRACIST', 'BREATH', 'EDUCATED', 'HOLLYWOOD PARK', 'AMERICAN CRUSADE', 'ME AND WHITE SUPREMACY', 'FORTITUDE', 'THE MAMBA MENTALITY', 'HIDDEN VALLEY ROAD', 'THE CHIFFON TRENCHES', 'MY VANISHING COUNTRY'], ['WHITE FRAGILITY', 'THE GREAT INFLUENZA', 'THE NEW JIM CROW', 'THE BODY KEEPS THE SCORE', 'SO YOU WANT TO TALK ABOUT RACE', 'JUST MERCY', 'A WOMAN OF NO IMPORTANCE', 'UNORTHODOX', 'BORN A CRIME', 'SAPIENS', 'BRAIDING SWEETGRASS', 'GRIT', 'OUTLIERS', 'THE COLOR OF LAW', 'THINKING, FAST AND SLOW'], ['LITTLE FIRES EVERYWHERE', 'NORMAL PEOPLE', 'THEN SHE WAS GONE', 'THE WOMAN IN THE WINDOW', 'THE TATTOOIST OF AUSCHWITZ', 'CIRCE', 'THIS TENDER LAND', 'BEFORE WE WERE YOURS', 'THE NIGHTINGALE', 'BEACH READ', 'CITY OF GIRLS', 'THE OVERSTORY', 'A GENTLEMAN IN MOSCOW', 'THE BOOK WOMAN OF TROUBLESOME CREEK', 'CALL ME BY YOUR NAME']]\n"
     ]
    }
   ],
   "source": [
    "# call the generatSets() function again\n",
    "# with 'date' = '2020-06-14' to recieve last week's bestseller list\n",
    "generateSets('2020-06-14')"
   ]
  },
  {
   "cell_type": "code",
   "execution_count": 5,
   "metadata": {},
   "outputs": [
    {
     "name": "stdout",
     "output_type": "stream",
     "text": [
      "Hardcover Fiction, June 14:\n",
      " {'CAMINO WINDS', 'THE BOOK OF LONGINGS', 'THE 20TH VICTIM', 'FAIR WARNING', 'WHERE THE CRAWDADS SING', 'BIG SUMMER', 'AMERICAN DIRT', 'HIDEAWAY', 'IF IT BLEEDS', 'ALL ADULTS HERE', 'THE GIVER OF STARS', 'WRATH OF POSEIDON', 'THE LAST TRIAL', 'THE SILENT PATIENT', 'WALK THE WIRE'}\n",
      "\n",
      "Hardcover Nonfiction, June 14:\n",
      " {'AMERICAN CRUSADE', 'THE SPLENDID AND THE VILE', 'HOW TO BE AN ANTIRACIST', 'BREATH', 'EDUCATED', 'ME AND WHITE SUPREMACY', 'THE CHIFFON TRENCHES', 'PLAGUE OF CORRUPTION', 'MY VANISHING COUNTRY', 'UNTAMED', 'HIDDEN VALLEY ROAD', 'HOLLYWOOD PARK', 'FORTITUDE', 'BECOMING', 'THE MAMBA MENTALITY'}\n",
      "\n",
      "Paperback Nonfiction, June 14:\n",
      " {'THE NEW JIM CROW', 'WHITE FRAGILITY', 'BRAIDING SWEETGRASS', 'JUST MERCY', 'SO YOU WANT TO TALK ABOUT RACE', 'THE GREAT INFLUENZA', 'SAPIENS', 'OUTLIERS', 'THE BODY KEEPS THE SCORE', 'A WOMAN OF NO IMPORTANCE', 'UNORTHODOX', 'THE COLOR OF LAW', 'THINKING, FAST AND SLOW', 'BORN A CRIME', 'GRIT'}\n",
      "\n",
      "Paperback Fiction, June 14:\n",
      " {'THE BOOK WOMAN OF TROUBLESOME CREEK', 'CALL ME BY YOUR NAME', 'THE OVERSTORY', 'A GENTLEMAN IN MOSCOW', 'BEFORE WE WERE YOURS', 'THEN SHE WAS GONE', 'NORMAL PEOPLE', 'CIRCE', 'THE TATTOOIST OF AUSCHWITZ', 'LITTLE FIRES EVERYWHERE', 'THIS TENDER LAND', 'THE WOMAN IN THE WINDOW', 'CITY OF GIRLS', 'THE NIGHTINGALE', 'BEACH READ'}\n"
     ]
    }
   ],
   "source": [
    "# create a set from each nested list\n",
    "hc_fiction_jun14 = set(bestseller_titles[0]) \n",
    "hc_nonfiction_jun14 = set(bestseller_titles[1]) \n",
    "pb_nonfiction_jun14 = set(bestseller_titles[2]) \n",
    "pb_fiction_jun14 = set(bestseller_titles[3]) \n",
    "\n",
    "print('Hardcover Fiction, June 14:\\n', hc_fiction_jun14)\n",
    "print('\\nHardcover Nonfiction, June 14:\\n', hc_nonfiction_jun14)\n",
    "print('\\nPaperback Nonfiction, June 14:\\n', pb_nonfiction_jun14)\n",
    "print('\\nPaperback Fiction, June 14:\\n', pb_fiction_jun14)"
   ]
  },
  {
   "cell_type": "markdown",
   "metadata": {},
   "source": [
    "## Set Operations\n",
    "\n",
    "Now that we have declared multiple sets of books, let's make use of set operations to get insights about the bestsellers."
   ]
  },
  {
   "cell_type": "code",
   "execution_count": null,
   "metadata": {},
   "outputs": [],
   "source": [
    "# create an intersection function"
   ]
  },
  {
   "cell_type": "code",
   "execution_count": null,
   "metadata": {},
   "outputs": [],
   "source": [
    "# create a difference function"
   ]
  },
  {
   "cell_type": "code",
   "execution_count": null,
   "metadata": {},
   "outputs": [],
   "source": [
    "# create a union function "
   ]
  },
  {
   "cell_type": "code",
   "execution_count": null,
   "metadata": {},
   "outputs": [],
   "source": [
    "# perform an operation on more than two sets"
   ]
  },
  {
   "cell_type": "code",
   "execution_count": null,
   "metadata": {},
   "outputs": [],
   "source": []
  }
 ],
 "metadata": {
  "kernelspec": {
   "display_name": "Python 3",
   "language": "python",
   "name": "python3"
  },
  "language_info": {
   "codemirror_mode": {
    "name": "ipython",
    "version": 3
   },
   "file_extension": ".py",
   "mimetype": "text/x-python",
   "name": "python",
   "nbconvert_exporter": "python",
   "pygments_lexer": "ipython3",
   "version": "3.7.4"
  }
 },
 "nbformat": 4,
 "nbformat_minor": 2
}
