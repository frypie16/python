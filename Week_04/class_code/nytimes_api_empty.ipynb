{
 "cells": [
  {
   "cell_type": "markdown",
   "metadata": {},
   "source": [
    "## Live Code: Python Dictionary\n",
    "\n",
    "As we mentioned earlier, one of the most popular forms of python dictionaries you'll run across as you work is __JSON__ ([JavaScript Object Notation](https://www.json.org/json-en.html)). JSON is the primary format in which data is passed back and forth to APIs ([Application Programming Interface](https://medium.com/@perrysetgo/what-exactly-is-an-api-69f36968a41f)), and most API servers will send their responses in JSON format. Python has great JSON support, with the json package. We won't learn about calling APIs today (*stay tuned for week 6!*) but to get started, we'll play around with a snippet of a call result from the New York Times API."
   ]
  },
  {
   "cell_type": "code",
   "execution_count": null,
   "metadata": {},
   "outputs": [],
   "source": [
    "# import requests and json - needed to make an API call\n",
    "import requests\n",
    "import json\n",
    "\n",
    "authorized_key = \"wuVWLTGSwdIknOmyb5xgYHQf7q2GHaKi\" # if you want to play around with the API, please make your own key at https://developer.nytimes.com/\n",
    "day = str(7) # this particular API requires you to choose from 1, 7, 30 (past day, 7 days, 30 days)\n",
    "\n",
    "# API url for the most emailed articles over a day, past 7 days or 30 days\n",
    "# we are getting the results for the past 7 days\n",
    "api_url = \"https://api.nytimes.com/svc/mostpopular/v2/emailed/%s.json?api-key=%s\" %(day, authorized_key) \n",
    "print(api_url)"
   ]
  },
  {
   "cell_type": "code",
   "execution_count": null,
   "metadata": {},
   "outputs": [],
   "source": [
    "# calling the API with requests\n",
    "response = requests.get(api_url)\n",
    "# creating a variable called data to hold the json formatted result\n",
    "data = response.json()"
   ]
  },
  {
   "cell_type": "code",
   "execution_count": null,
   "metadata": {
    "scrolled": true
   },
   "outputs": [],
   "source": [
    "# show raw data\n",
    "print(type(data))\n",
    "data"
   ]
  },
  {
   "cell_type": "code",
   "execution_count": null,
   "metadata": {},
   "outputs": [],
   "source": [
    "# we want to look at one article from the 20 returned\n",
    "# all the information is stored in the key, 'results'\n",
    "# results maps to a list of dictionaries that contain the article metadata\n",
    "# so you will need to use an index number to access the dictionary you want\n"
   ]
  },
  {
   "cell_type": "code",
   "execution_count": null,
   "metadata": {},
   "outputs": [],
   "source": [
    "# get url\n"
   ]
  },
  {
   "cell_type": "code",
   "execution_count": null,
   "metadata": {},
   "outputs": [],
   "source": [
    "# get title\n"
   ]
  },
  {
   "cell_type": "code",
   "execution_count": null,
   "metadata": {},
   "outputs": [],
   "source": [
    "# get byline\n"
   ]
  },
  {
   "cell_type": "code",
   "execution_count": null,
   "metadata": {},
   "outputs": [],
   "source": [
    "# get description tags and iterate through them\n"
   ]
  },
  {
   "cell_type": "code",
   "execution_count": null,
   "metadata": {},
   "outputs": [],
   "source": [
    "# add a key read_or_not with a boolean value\n",
    "\n",
    "# check to see that 'read_or_not' has been added\n"
   ]
  },
  {
   "cell_type": "code",
   "execution_count": null,
   "metadata": {},
   "outputs": [],
   "source": [
    "# let's remove the two keys with empty lists: 'org_facet', 'per_facet'\n",
    "# remove key/value using pop() & keyword del\n",
    "\n",
    "# make sure the keys are removed!\n"
   ]
  },
  {
   "cell_type": "code",
   "execution_count": null,
   "metadata": {},
   "outputs": [],
   "source": [
    "# use IPython & the media metadata to display an image from the returned data\n",
    "# IPython (Interactive Python) is basically a command shell for interactive computing\n",
    "# here we are using it to import the display module and Image class so we can see our image within our notebook\n",
    "from IPython.display import Image\n",
    "\n",
    "# Image takes three arguments: the image path/url, width, and height\n",
    "# we are going to fetch all of those data from above like we did for article url, title, and byline\n",
    "\n",
    "Image(url, width=width, height=height) # plug in the correct variables in order"
   ]
  },
  {
   "cell_type": "code",
   "execution_count": null,
   "metadata": {},
   "outputs": [],
   "source": []
  }
 ],
 "metadata": {
  "kernelspec": {
   "display_name": "Python 3",
   "language": "python",
   "name": "python3"
  },
  "language_info": {
   "codemirror_mode": {
    "name": "ipython",
    "version": 3
   },
   "file_extension": ".py",
   "mimetype": "text/x-python",
   "name": "python",
   "nbconvert_exporter": "python",
   "pygments_lexer": "ipython3",
   "version": "3.7.4"
  }
 },
 "nbformat": 4,
 "nbformat_minor": 2
}
