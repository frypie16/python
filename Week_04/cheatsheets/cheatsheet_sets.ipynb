{
 "cells": [
  {
   "cell_type": "markdown",
   "metadata": {},
   "source": [
    "# Sets\n",
    "\n",
    "1. [Definition](#Definition)\n",
    "2. [Creating Python Sets](#Creating)\n",
    "3. [Modifying a Set in Python](#Modifying)\n",
    "4. [Set Operations](#Set)\n",
    "5. [Iterating](#Iterating)\n",
    "6. [Frozensets](#Frozensets)\n",
    "6. [Resources]()"
   ]
  },
  {
   "cell_type": "markdown",
   "metadata": {},
   "source": [
    "## Definition\n",
    "\n",
    "A set is an unordered collection of unique items.\n",
    "\n",
    "- __Sets__:\n",
    "    - are mutable\n",
    "    - but their items must be of immutable datatype (numbers, strings, tuples)\n",
    " \n",
    "- __In the lecture we went over following methods__:\n",
    "\n",
    "    - adding, updating, and removing values\n",
    "    - set operations\n",
    "    - membership testing\n",
    "    - iteration"
   ]
  },
  {
   "cell_type": "code",
   "execution_count": 1,
   "metadata": {},
   "outputs": [
    {
     "name": "stdout",
     "output_type": "stream",
     "text": [
      "{1, 2, 3}\n",
      "{'Lan', 'Sven', 'Anna'}\n",
      "{1.0, 'Sven', (1, 2, 3)}\n"
     ]
    }
   ],
   "source": [
    "# set of integers\n",
    "my_set = {1, 2, 3}\n",
    "print(my_set)\n",
    "\n",
    "# set of strings\n",
    "my_set = {'Sven', 'Anna', 'Lan'}\n",
    "print(my_set)\n",
    "\n",
    "# set of mixed datatypes\n",
    "my_set = {1.0, 'Sven', (1, 2, 3)}\n",
    "print(my_set)"
   ]
  },
  {
   "cell_type": "markdown",
   "metadata": {},
   "source": [
    "A set cannot contain mutable elements like lists, dictionaries, or other sets. This will result in a type error.\n"
   ]
  },
  {
   "cell_type": "code",
   "execution_count": 2,
   "metadata": {},
   "outputs": [
    {
     "ename": "TypeError",
     "evalue": "unhashable type: 'list'",
     "output_type": "error",
     "traceback": [
      "\u001b[0;31m---------------------------------------------------------------------------\u001b[0m",
      "\u001b[0;31mTypeError\u001b[0m                                 Traceback (most recent call last)",
      "\u001b[0;32m<ipython-input-2-8377226e0e99>\u001b[0m in \u001b[0;36m<module>\u001b[0;34m\u001b[0m\n\u001b[0;32m----> 1\u001b[0;31m \u001b[0mmy_set\u001b[0m \u001b[0;34m=\u001b[0m \u001b[0;34m{\u001b[0m\u001b[0;36m1\u001b[0m\u001b[0;34m,\u001b[0m \u001b[0;36m2\u001b[0m\u001b[0;34m,\u001b[0m \u001b[0;34m[\u001b[0m\u001b[0;36m3\u001b[0m\u001b[0;34m,\u001b[0m \u001b[0;36m4\u001b[0m\u001b[0;34m]\u001b[0m\u001b[0;34m}\u001b[0m\u001b[0;34m\u001b[0m\u001b[0;34m\u001b[0m\u001b[0m\n\u001b[0m",
      "\u001b[0;31mTypeError\u001b[0m: unhashable type: 'list'"
     ]
    }
   ],
   "source": [
    "my_set = {1, 2, [3, 4]}"
   ]
  },
  {
   "cell_type": "markdown",
   "metadata": {},
   "source": [
    "Sets, unlike lists or tuples, cannot have multiple occurrences of the same element."
   ]
  },
  {
   "cell_type": "code",
   "execution_count": 3,
   "metadata": {},
   "outputs": [
    {
     "name": "stdout",
     "output_type": "stream",
     "text": [
      "{1, 2, 3, 4}\n"
     ]
    }
   ],
   "source": [
    "# a set cannot have duplicates\n",
    "my_set = {1, 2, 3, 4, 3, 2}\n",
    "print(my_set)"
   ]
  },
  {
   "cell_type": "markdown",
   "metadata": {},
   "source": [
    "## Creating Python Sets\n",
    "\n",
    "- __Sets__:\n",
    "    - can be declared by directly placing items inside curly braces {} \n",
    "    - or with the built-in set() method"
   ]
  },
  {
   "cell_type": "code",
   "execution_count": 4,
   "metadata": {},
   "outputs": [
    {
     "name": "stdout",
     "output_type": "stream",
     "text": [
      "<class 'set'>\n",
      "<class 'dict'>\n"
     ]
    }
   ],
   "source": [
    "# declare a set by directly placing items inside curly braces \n",
    "a = {1, 2, 3}\n",
    "\n",
    "# important: empty braces will create a dictionary\n",
    "b = {}\n",
    "\n",
    "print(type(a))\n",
    "print(type(b))"
   ]
  },
  {
   "cell_type": "code",
   "execution_count": 5,
   "metadata": {},
   "outputs": [
    {
     "name": "stdout",
     "output_type": "stream",
     "text": [
      "<class 'set'>\n"
     ]
    }
   ],
   "source": [
    "# or use the set() function\n",
    "c = set()\n",
    "print(type(c))"
   ]
  },
  {
   "cell_type": "code",
   "execution_count": 6,
   "metadata": {},
   "outputs": [
    {
     "name": "stdout",
     "output_type": "stream",
     "text": [
      "{1, 2, 3, 4}\n"
     ]
    }
   ],
   "source": [
    "# you can also make set from a list\n",
    "d = set([1, 4, 3, 2])\n",
    "print(d)"
   ]
  },
  {
   "cell_type": "markdown",
   "metadata": {},
   "source": [
    "## Modifying a Set in Python\n",
    "\n",
    "Sets are mutable. However, since they are unordered, indexing has no meaning and we cannot access or change an element of a set using indexing or slicing.\n",
    "\n",
    "### Adding values"
   ]
  },
  {
   "cell_type": "code",
   "execution_count": 7,
   "metadata": {},
   "outputs": [
    {
     "name": "stdout",
     "output_type": "stream",
     "text": [
      "{1, 3}\n",
      "{1, 2, 3}\n",
      "{1, 2, 3, 4}\n",
      "{1, 2, 3, 4, 5, 6, 8}\n"
     ]
    }
   ],
   "source": [
    "# initialize my_set\n",
    "my_set = {1, 3}\n",
    "print(my_set)\n",
    "\n",
    "# add an element with add() method\n",
    "my_set.add(2)\n",
    "print(my_set)\n",
    "\n",
    "# add multiple elements with update() method\n",
    "# the update() method can take tuples, lists, \n",
    "# strings or other sets as an arguments\n",
    "my_set.update([2, 3, 4])\n",
    "print(my_set)\n",
    "\n",
    "# add list and set\n",
    "my_set.update([4, 5], {1, 6, 8})\n",
    "print(my_set)"
   ]
  },
  {
   "cell_type": "markdown",
   "metadata": {},
   "source": [
    "### Removing values"
   ]
  },
  {
   "cell_type": "code",
   "execution_count": 8,
   "metadata": {},
   "outputs": [
    {
     "name": "stdout",
     "output_type": "stream",
     "text": [
      "{1, 3, 4, 5, 6}\n",
      "{1, 3, 5, 6}\n",
      "{1, 3, 5}\n",
      "{1, 3, 5}\n"
     ]
    }
   ],
   "source": [
    "# initialize my_set\n",
    "my_set = {1, 3, 4, 5, 6}\n",
    "print(my_set)\n",
    "\n",
    "# discard an element\n",
    "my_set.discard(4)\n",
    "print(my_set)\n",
    "\n",
    "# remove an element\n",
    "my_set.remove(6)\n",
    "print(my_set)\n",
    "\n",
    "# discard an element not present in my_set\n",
    "my_set.discard(2)\n",
    "print(my_set)"
   ]
  },
  {
   "cell_type": "code",
   "execution_count": 9,
   "metadata": {},
   "outputs": [
    {
     "ename": "KeyError",
     "evalue": "2",
     "output_type": "error",
     "traceback": [
      "\u001b[0;31m---------------------------------------------------------------------------\u001b[0m",
      "\u001b[0;31mKeyError\u001b[0m                                  Traceback (most recent call last)",
      "\u001b[0;32m<ipython-input-9-5591ddbc2148>\u001b[0m in \u001b[0;36m<module>\u001b[0;34m\u001b[0m\n\u001b[1;32m      1\u001b[0m \u001b[0;31m# remove an element not present in my_set\u001b[0m\u001b[0;34m\u001b[0m\u001b[0;34m\u001b[0m\u001b[0;34m\u001b[0m\u001b[0m\n\u001b[1;32m      2\u001b[0m \u001b[0;31m# this will result in an error\u001b[0m\u001b[0;34m\u001b[0m\u001b[0;34m\u001b[0m\u001b[0;34m\u001b[0m\u001b[0m\n\u001b[0;32m----> 3\u001b[0;31m \u001b[0mmy_set\u001b[0m\u001b[0;34m.\u001b[0m\u001b[0mremove\u001b[0m\u001b[0;34m(\u001b[0m\u001b[0;36m2\u001b[0m\u001b[0;34m)\u001b[0m\u001b[0;34m\u001b[0m\u001b[0;34m\u001b[0m\u001b[0m\n\u001b[0m",
      "\u001b[0;31mKeyError\u001b[0m: 2"
     ]
    }
   ],
   "source": [
    "# remove an element not present in my_set\n",
    "# this will result in an error\n",
    "my_set.remove(2)"
   ]
  },
  {
   "cell_type": "code",
   "execution_count": 10,
   "metadata": {},
   "outputs": [
    {
     "name": "stdout",
     "output_type": "stream",
     "text": [
      "{'h', 'P', 't', 'o', 'n', 'y'}\n",
      "h\n",
      "{'t', 'o', 'n', 'y'}\n"
     ]
    }
   ],
   "source": [
    "# initialize my_set\n",
    "my_set = set('Python')\n",
    "print(my_set)\n",
    "\n",
    "# remove and return an arbitrary \n",
    "# item using the pop() method\n",
    "print(my_set.pop())\n",
    "\n",
    "# pop another element\n",
    "my_set.pop()\n",
    "print(my_set)"
   ]
  },
  {
   "cell_type": "code",
   "execution_count": 11,
   "metadata": {},
   "outputs": [
    {
     "name": "stdout",
     "output_type": "stream",
     "text": [
      "set()\n"
     ]
    }
   ],
   "source": [
    "# remove all items from a set\n",
    "my_set.clear()\n",
    "print(my_set)"
   ]
  },
  {
   "cell_type": "markdown",
   "metadata": {},
   "source": [
    "## Set Operations\n",
    "\n",
    "Sets can be used to carry out mathematical set operations like intersection, difference, symmetric difference and union."
   ]
  },
  {
   "cell_type": "code",
   "execution_count": 12,
   "metadata": {},
   "outputs": [],
   "source": [
    "# let's declare two sets:\n",
    "\n",
    "# You want to bake banana bread and are cross checking the ingredients\n",
    "# listed in the recipe against what you already have in your pantry\n",
    "my_pantry = {'sugar', 'chocolate', 'peanut-butter', 'bananas', 'nutella', 'salt', 'eggs'}\n",
    "ingredients = {'bananas', 'baking soda', 'salt', 'eggs', 'butter', 'flour', 'sugar'}"
   ]
  },
  {
   "cell_type": "markdown",
   "metadata": {},
   "source": [
    "### Set Intersection\n",
    "\n",
    "Intersection is performed using & operator. Same can be accomplished using the intersection() method."
   ]
  },
  {
   "cell_type": "code",
   "execution_count": 13,
   "metadata": {},
   "outputs": [
    {
     "name": "stdout",
     "output_type": "stream",
     "text": [
      "{'eggs', 'bananas', 'salt', 'sugar'}\n"
     ]
    }
   ],
   "source": [
    "# which items do you already have?\n",
    "\n",
    "# use & operator\n",
    "print(my_pantry & ingredients)"
   ]
  },
  {
   "cell_type": "code",
   "execution_count": 14,
   "metadata": {},
   "outputs": [
    {
     "name": "stdout",
     "output_type": "stream",
     "text": [
      "{'eggs', 'bananas', 'salt', 'sugar'}\n"
     ]
    }
   ],
   "source": [
    "# use intersection method on my_pantry\n",
    "in_stock = my_pantry.intersection(ingredients)\n",
    "print(in_stock)"
   ]
  },
  {
   "cell_type": "code",
   "execution_count": 15,
   "metadata": {},
   "outputs": [
    {
     "name": "stdout",
     "output_type": "stream",
     "text": [
      "{'eggs', 'bananas', 'salt', 'sugar'}\n"
     ]
    }
   ],
   "source": [
    "# this also works the other way around:\n",
    "in_stock = ingredients.intersection(my_pantry)\n",
    "print(in_stock)"
   ]
  },
  {
   "cell_type": "markdown",
   "metadata": {},
   "source": [
    "### Set Difference\n",
    "\n",
    "Difference is performed using - operator. Same can be accomplished using the difference() method."
   ]
  },
  {
   "cell_type": "code",
   "execution_count": 16,
   "metadata": {},
   "outputs": [
    {
     "name": "stdout",
     "output_type": "stream",
     "text": [
      "{'flour', 'butter', 'baking soda'}\n"
     ]
    }
   ],
   "source": [
    "# which items are you missing?\n",
    "\n",
    "# use - operator\n",
    "print(ingredients - my_pantry)"
   ]
  },
  {
   "cell_type": "code",
   "execution_count": 17,
   "metadata": {},
   "outputs": [
    {
     "name": "stdout",
     "output_type": "stream",
     "text": [
      "{'flour', 'butter', 'baking soda'}\n"
     ]
    }
   ],
   "source": [
    "# use difference method on ingredients\n",
    "missing_items = ingredients.difference(my_pantry)\n",
    "print(missing_items)"
   ]
  },
  {
   "cell_type": "markdown",
   "metadata": {},
   "source": [
    "### Set Union\n",
    "\n",
    "Union is performed using | operator. Same can be accomplished using the union() method."
   ]
  },
  {
   "cell_type": "code",
   "execution_count": 18,
   "metadata": {},
   "outputs": [
    {
     "name": "stdout",
     "output_type": "stream",
     "text": [
      "{'eggs', 'sugar', 'flour', 'bananas', 'nutella', 'salt', 'chocolate', 'butter', 'baking soda', 'peanut-butter'}\n"
     ]
    }
   ],
   "source": [
    "# you invite your friend Sohee to come over and bake with you\n",
    "# luckily she has all the missing ingredients in her pantry\n",
    "\n",
    "sohees_pantry = {'flour', 'baking soda', 'butter'}\n",
    "my_pantry = {'sugar', 'chocolate', 'peanut-butter', 'bananas', 'nutella', 'salt', 'eggs'}\n",
    "\n",
    "# your and Sohee's pantries combined\n",
    "print(my_pantry | sohees_pantry)"
   ]
  },
  {
   "cell_type": "code",
   "execution_count": 19,
   "metadata": {},
   "outputs": [
    {
     "name": "stdout",
     "output_type": "stream",
     "text": [
      "{'eggs', 'sugar', 'flour', 'bananas', 'nutella', 'salt', 'chocolate', 'butter', 'baking soda', 'peanut-butter'}\n"
     ]
    }
   ],
   "source": [
    "# use union method\n",
    "combined = my_pantry.union(sohees_pantry)\n",
    "print(combined)"
   ]
  },
  {
   "cell_type": "code",
   "execution_count": 20,
   "metadata": {},
   "outputs": [
    {
     "name": "stdout",
     "output_type": "stream",
     "text": [
      "{'eggs', 'sugar', 'nutella', 'bananas', 'peanut-butter', 'butter', 'baking soda', 'salt', 'chocolate', 'flour'}\n"
     ]
    }
   ],
   "source": [
    "# this also works the other way around:\n",
    "combined = sohees_pantry.union(my_pantry)\n",
    "print(combined)"
   ]
  },
  {
   "cell_type": "markdown",
   "metadata": {},
   "source": [
    "### Subset\n",
    "\n",
    "The issubset() method returns True if all elements of a set are present in another set."
   ]
  },
  {
   "cell_type": "code",
   "execution_count": 21,
   "metadata": {},
   "outputs": [
    {
     "data": {
      "text/plain": [
       "True"
      ]
     },
     "execution_count": 21,
     "metadata": {},
     "output_type": "execute_result"
    }
   ],
   "source": [
    "# do you have all the necessary ingredients now?\n",
    "ingredients = {'bananas', 'baking soda', 'salt', 'eggs', 'butter', 'flour', 'sugar'}\n",
    "combined = {'sugar', 'eggs', 'baking soda', 'butter', 'nutella', 'chocolate', 'peanut-butter', 'bananas', 'salt', 'flour'}\n",
    "\n",
    "# use the subset() method\n",
    "ingredients.issubset(combined)"
   ]
  },
  {
   "cell_type": "markdown",
   "metadata": {},
   "source": [
    "### Set Symmetric Difference\n",
    "\n",
    "Not relevant to our banana bread example but yet another important set operation:\n",
    "Symmetric difference is performed using ^ operator. Same can be accomplished using the method symmetric_difference()."
   ]
  },
  {
   "cell_type": "code",
   "execution_count": 22,
   "metadata": {},
   "outputs": [
    {
     "name": "stdout",
     "output_type": "stream",
     "text": [
      "{'learning', 'fun', 'is', 'Python'}\n"
     ]
    }
   ],
   "source": [
    "# a symmetric difference of two sets is the set of all\n",
    "# values that are unique to each set (union-intersection)\n",
    "\n",
    "# initialize two sets\n",
    "A = {1, 2, 3, 'learning', 'Python'}\n",
    "B = {1, 2, 3, 'is', 'fun'}\n",
    "\n",
    "# use ^ operator\n",
    "print(A^B)"
   ]
  },
  {
   "cell_type": "code",
   "execution_count": 23,
   "metadata": {},
   "outputs": [
    {
     "name": "stdout",
     "output_type": "stream",
     "text": [
      "{'learning', 'fun', 'is', 'Python'}\n"
     ]
    }
   ],
   "source": [
    "# use symmetric difference method on A\n",
    "print(A.symmetric_difference(B))"
   ]
  },
  {
   "cell_type": "code",
   "execution_count": 24,
   "metadata": {},
   "outputs": [
    {
     "name": "stdout",
     "output_type": "stream",
     "text": [
      "{'learning', 'fun', 'is', 'Python'}\n"
     ]
    }
   ],
   "source": [
    "# this also works the other way around\n",
    "print(B.symmetric_difference(A))"
   ]
  },
  {
   "cell_type": "markdown",
   "metadata": {},
   "source": [
    "### Membership testing\n",
    "\n",
    "You can test if an item exists in a set or not, using the <b>in/ not in</b> keyword."
   ]
  },
  {
   "cell_type": "code",
   "execution_count": 25,
   "metadata": {},
   "outputs": [
    {
     "name": "stdout",
     "output_type": "stream",
     "text": [
      "True\n",
      "True\n"
     ]
    }
   ],
   "source": [
    "# back to banana bread:\n",
    "\n",
    "# initialize ingredients\n",
    "ingredients = {'bananas', 'baking soda', 'salt', 'eggs', 'butter', 'flour', 'sugar'}\n",
    "\n",
    "# check if 'eggs' are an ingredient\n",
    "print('eggs' in ingredients)\n",
    "\n",
    "# check if 'cheddar' is present\n",
    "print('cheddar' not in ingredients)"
   ]
  },
  {
   "cell_type": "markdown",
   "metadata": {},
   "source": [
    "## Iteration\n",
    "The for construct - for item in set - is an easy way to iterate through each element"
   ]
  },
  {
   "cell_type": "code",
   "execution_count": 26,
   "metadata": {},
   "outputs": [
    {
     "name": "stdout",
     "output_type": "stream",
     "text": [
      "h\n",
      "p\n",
      "t\n",
      "o\n",
      "n\n",
      "y\n"
     ]
    }
   ],
   "source": [
    "# initialize my_set\n",
    "my_set = set('python')\n",
    "\n",
    "for letter in my_set:\n",
    "    print(letter)"
   ]
  },
  {
   "cell_type": "markdown",
   "metadata": {},
   "source": [
    "## Frozensets\n",
    "\n",
    "A frozenset is a set, whose elements cannot be changed once assigned.\n",
    "Frozensets are immutable sets (like tuples can be seen as immutable lists). \n",
    "\n",
    "Frozensets can be declared by using the frozenset() function."
   ]
  },
  {
   "cell_type": "code",
   "execution_count": 27,
   "metadata": {},
   "outputs": [
    {
     "name": "stdout",
     "output_type": "stream",
     "text": [
      "<class 'frozenset'>\n",
      "<class 'frozenset'>\n"
     ]
    }
   ],
   "source": [
    "# initialize frozensets A and B\n",
    "A = frozenset([1, 2, 3, 4])\n",
    "B = frozenset([3, 4, 5, 6])\n",
    "\n",
    "print(type(A))\n",
    "print(type(B))"
   ]
  },
  {
   "cell_type": "markdown",
   "metadata": {},
   "source": [
    "Frozensets support methods like:\n",
    "- union()\n",
    "- intersection()\n",
    "- difference()\n",
    "- symmetric_difference()\n",
    "- issubset()"
   ]
  },
  {
   "cell_type": "code",
   "execution_count": 28,
   "metadata": {},
   "outputs": [
    {
     "name": "stdout",
     "output_type": "stream",
     "text": [
      "frozenset({1, 2, 3, 4, 5, 6})\n",
      "frozenset({3, 4})\n"
     ]
    }
   ],
   "source": [
    "# initialize frozensets A and B\n",
    "A = frozenset([1, 2, 3, 4])\n",
    "B = frozenset([3, 4, 5, 6])\n",
    "\n",
    "# use union operator \n",
    "print(A | B)\n",
    "\n",
    "# use intersection method\n",
    "print(B.intersection(A))"
   ]
  },
  {
   "cell_type": "markdown",
   "metadata": {},
   "source": [
    "Being immutable, frozensets do not have methods that add or remove elements."
   ]
  },
  {
   "cell_type": "code",
   "execution_count": 29,
   "metadata": {},
   "outputs": [
    {
     "ename": "AttributeError",
     "evalue": "'frozenset' object has no attribute 'add'",
     "output_type": "error",
     "traceback": [
      "\u001b[0;31m---------------------------------------------------------------------------\u001b[0m",
      "\u001b[0;31mAttributeError\u001b[0m                            Traceback (most recent call last)",
      "\u001b[0;32m<ipython-input-29-b5c73af0d6fc>\u001b[0m in \u001b[0;36m<module>\u001b[0;34m\u001b[0m\n\u001b[1;32m      4\u001b[0m \u001b[0;31m# try the add() method\u001b[0m\u001b[0;34m\u001b[0m\u001b[0;34m\u001b[0m\u001b[0;34m\u001b[0m\u001b[0m\n\u001b[1;32m      5\u001b[0m \u001b[0;31m# this will result in an AttributeError\u001b[0m\u001b[0;34m\u001b[0m\u001b[0;34m\u001b[0m\u001b[0;34m\u001b[0m\u001b[0m\n\u001b[0;32m----> 6\u001b[0;31m \u001b[0mmy_frozenset\u001b[0m\u001b[0;34m.\u001b[0m\u001b[0madd\u001b[0m\u001b[0;34m(\u001b[0m\u001b[0;36m8\u001b[0m\u001b[0;34m)\u001b[0m\u001b[0;34m\u001b[0m\u001b[0;34m\u001b[0m\u001b[0m\n\u001b[0m",
      "\u001b[0;31mAttributeError\u001b[0m: 'frozenset' object has no attribute 'add'"
     ]
    }
   ],
   "source": [
    "# initialize frozensets A and B\n",
    "my_frozenset = frozenset([1, 2, 3, 4])\n",
    "\n",
    "# try the add() method\n",
    "# this will result in an AttributeError\n",
    "my_frozenset.add(8)"
   ]
  },
  {
   "cell_type": "markdown",
   "metadata": {},
   "source": [
    "## Resources\n",
    "We covered the basics of Python sets. There's a lot more to learn so please check out the other documentations below:\n",
    "\n",
    "- [Python.org Sets](https://docs.python.org/3/tutorial/datastructures.html#sets)\n",
    "- [Real Python Sets](https://realpython.com/python-sets/)\n",
    "- [GeeksforGeeks Sets](https://www.geeksforgeeks.org/python-sets/)"
   ]
  },
  {
   "cell_type": "code",
   "execution_count": null,
   "metadata": {},
   "outputs": [],
   "source": []
  }
 ],
 "metadata": {
  "kernelspec": {
   "display_name": "Python 3",
   "language": "python",
   "name": "python3"
  },
  "language_info": {
   "codemirror_mode": {
    "name": "ipython",
    "version": 3
   },
   "file_extension": ".py",
   "mimetype": "text/x-python",
   "name": "python",
   "nbconvert_exporter": "python",
   "pygments_lexer": "ipython3",
   "version": "3.7.4"
  }
 },
 "nbformat": 4,
 "nbformat_minor": 2
}
