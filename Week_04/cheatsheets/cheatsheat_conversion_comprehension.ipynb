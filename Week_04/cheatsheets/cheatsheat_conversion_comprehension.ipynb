{
 "cells": [
  {
   "cell_type": "markdown",
   "metadata": {},
   "source": [
    "<h1 style=\"color:green\">CONVERSION & COMPREHENSION</h1>\n",
    "<h2>Synthesizing Data Structures</h2>\n",
    "\n",
    "1. [Conversion](#01)\n",
    "1. [Comprehension](#02)\n",
    "    1. [List comprehension](#03)\n",
    "    1. [Set comprehension](#04)\n",
    "    1. [Dictionary comprehension](#05)\n",
    "    1. [When to use or not use comprehension](#06)\n",
    "\n",
    "<hr>\n",
    "\n",
    "\n",
    "\n",
    "## <span id=\"01\">Conversions among lists, sets and dictionaries</span>\n",
    "1. lists to sets\n",
    "1. sets to lists\n",
    "1. dictionaries to lists"
   ]
  },
  {
   "cell_type": "code",
   "execution_count": 6,
   "metadata": {},
   "outputs": [
    {
     "name": "stdout",
     "output_type": "stream",
     "text": [
      "{'three', 'one', 'two'}\n"
     ]
    }
   ],
   "source": [
    "#converting a list to a set\n",
    "my_list = ['one', 'two', 'three']\n",
    "my_set = set(my_list)\n",
    "print(my_set)"
   ]
  },
  {
   "cell_type": "code",
   "execution_count": 7,
   "metadata": {},
   "outputs": [
    {
     "name": "stdout",
     "output_type": "stream",
     "text": [
      "['three', 'one', 'two']\n"
     ]
    }
   ],
   "source": [
    "#converting a set to a list\n",
    "my_set = {'one', 'two', 'three'} \n",
    "my_list = list(my_set)\n",
    "print(my_list)"
   ]
  },
  {
   "cell_type": "code",
   "execution_count": 14,
   "metadata": {
    "scrolled": true
   },
   "outputs": [
    {
     "name": "stdout",
     "output_type": "stream",
     "text": [
      "['one', 'two', 'three'] [1, 2, 3]\n"
     ]
    }
   ],
   "source": [
    "#converting a dictionary to a list\n",
    "my_dict = {'one': 1, 'two': 2, 'three': 3}\n",
    "\n",
    "#putting just the keys into a list\n",
    "my_list_keys = list(my_dict.keys())\n",
    "\n",
    "#putting just the values into a list\n",
    "my_list_values = list(my_dict.values())\n",
    "print(my_list_keys, my_list_values)"
   ]
  },
  {
   "cell_type": "markdown",
   "metadata": {},
   "source": [
    "## <span id=\"02\">Comprehension</span>\n",
    "A convenient way to create new sequences using ones you’ve already declared. You can use comprehension to create new lists, sets, and dictionaries.\n",
    "\n",
    "<hr>\n",
    "\n",
    "### <span id=\"03\">List Comprehension</span>\n",
    "\n",
    "You’d use list comprehension to create a new list that is somehow related to a preexisting sequence. Some examples:\n",
    "\n",
    "- You have a list of numbers and you want to create a new one with the squares of all of those numbers\n",
    "- You have a list of numbers and you want to create a new one with just the even numbers\n",
    "- You have a string and you want to create a new list with the letters in that string\n",
    "\n",
    "We'll look at that first example below. One way to do this is with a for loop:"
   ]
  },
  {
   "cell_type": "code",
   "execution_count": 13,
   "metadata": {},
   "outputs": [
    {
     "name": "stdout",
     "output_type": "stream",
     "text": [
      "[1, 4, 9, 16, 25, 36, 49, 64, 81]\n"
     ]
    }
   ],
   "source": [
    "input_list = [1, 2, 3, 4, 5, 6, 7, 8, 9]\n",
    "output_list = []\n",
    "\n",
    "#look at each integer in input_list\n",
    "for i in input_list:\n",
    "    #add the square of that integer to output_list\n",
    "    output_list.append(i ** 2)\n",
    "    \n",
    "print(output_list)"
   ]
  },
  {
   "cell_type": "markdown",
   "metadata": {},
   "source": [
    "This works just fine and is a perfectly valid way to do this. But if we used comprehension instead, we wouldn't need to create the empty list beforehand—we could just do it in the same line as our declaration of what goes in the list.\n",
    "\n",
    "The general format for list comprehension is:<br />\n",
    "<big><i><b>new_list</b> = [<b>expression</b> for <b>variable</b> in <b>old_list</b>]</i></big>"
   ]
  },
  {
   "cell_type": "code",
   "execution_count": 14,
   "metadata": {
    "scrolled": true
   },
   "outputs": [
    {
     "name": "stdout",
     "output_type": "stream",
     "text": [
      "[1, 4, 9, 16, 25, 36, 49, 64, 81]\n"
     ]
    }
   ],
   "source": [
    "input_list = [1, 2, 3, 4, 5, 6, 7, 8, 9]\n",
    "\n",
    "output_list = [i**2 for i in input_list]\n",
    "    \n",
    "print(output_list)"
   ]
  },
  {
   "cell_type": "markdown",
   "metadata": {},
   "source": [
    "### <span id=\"04\">Set Comprehension</span>\n",
    "\n",
    "It's the same idea for sets. The benefit of doing set comprehension as opposed to list comprehension is that it'll remove the duplicates for you (if that serves what you're trying to do).\n",
    "\n",
    "For example, say we want to see all the unique vowels used in a particular phrase. Again, you could use a for loop:"
   ]
  },
  {
   "cell_type": "code",
   "execution_count": 15,
   "metadata": {},
   "outputs": [
    {
     "name": "stdout",
     "output_type": "stream",
     "text": [
      "{'a', 'i', 'o', 'e'}\n"
     ]
    }
   ],
   "source": [
    "quote = \"sven travis is not sven travis\"\n",
    "vowels_list = []\n",
    "for letter in quote:\n",
    "    if letter in 'aeiou':\n",
    "        vowels_list.append(letter)\n",
    "vowels_set = set(vowels_list)\n",
    "print(vowels_set)"
   ]
  },
  {
   "cell_type": "markdown",
   "metadata": {},
   "source": [
    "By using comprehension instead, you only need to write 3 lines of code as opposed to 6."
   ]
  },
  {
   "cell_type": "code",
   "execution_count": 16,
   "metadata": {},
   "outputs": [
    {
     "name": "stdout",
     "output_type": "stream",
     "text": [
      "{'a', 'i', 'o', 'e'}\n"
     ]
    }
   ],
   "source": [
    "quote = \"sven travis is not sven travis\"\n",
    "vowels = {letter for letter in quote if letter in 'aeiou'}\n",
    "print(vowels)"
   ]
  },
  {
   "cell_type": "markdown",
   "metadata": {},
   "source": [
    "### <span id=\"05\">Dictionary Comprehension</span>\n",
    "\n",
    "Lastly, you can do this with dictionaries. This is particularly useful for converting lists to dictionaries. Python will read in each member of a list as a value; comprehension helps us figure out a way to assign a key to each value.\n",
    "\n",
    "Take our squaring example from before. Say we want each square value to have a key, in order. Here's how to do it with a for loop:"
   ]
  },
  {
   "cell_type": "code",
   "execution_count": 17,
   "metadata": {},
   "outputs": [
    {
     "name": "stdout",
     "output_type": "stream",
     "text": [
      "{1: 1, 2: 4, 3: 9, 4: 16, 5: 25, 6: 36, 7: 49, 8: 64, 9: 81}\n"
     ]
    }
   ],
   "source": [
    "input_list = [1, 2, 3, 4, 5, 6, 7, 8, 9]\n",
    "output_dict = {}\n",
    "\n",
    "for i in input_list:\n",
    "    output_dict[i] = i**2\n",
    "\n",
    "print(output_dict)"
   ]
  },
  {
   "cell_type": "markdown",
   "metadata": {},
   "source": [
    "And here's how to do it with comprehension:"
   ]
  },
  {
   "cell_type": "code",
   "execution_count": 18,
   "metadata": {},
   "outputs": [
    {
     "name": "stdout",
     "output_type": "stream",
     "text": [
      "{1: 1, 2: 4, 3: 9, 4: 16, 5: 25, 6: 36, 7: 49, 8: 64, 9: 81}\n"
     ]
    }
   ],
   "source": [
    "input_list = [1, 2, 3, 4, 5, 6, 7, 8, 9]\n",
    "output_dict = {i: i ** 2 for i in input_list}\n",
    "print(output_dict)"
   ]
  },
  {
   "cell_type": "markdown",
   "metadata": {},
   "source": [
    "You can also use comprehension to create dictionaries with string keys or values. The easiest way to do this is to create two separate lists, and set one as keys and one as values."
   ]
  },
  {
   "cell_type": "code",
   "execution_count": 28,
   "metadata": {},
   "outputs": [
    {
     "name": "stdout",
     "output_type": "stream",
     "text": [
      "{'Fifi': 1, 'Lan': 2, 'Anna': 3, 'Shirley': 4, 'Karen': 5, 'Jason': 6, 'Jill': 7, 'Mary Ann': 8, 'Franzi': 9, 'Sohee': 10}\n"
     ]
    }
   ],
   "source": [
    "number = [1, 2, 3, 4, 5, 6, 7, 8, 9, 10]\n",
    "name = ['Fifi', 'Lan', 'Anna', 'Shirley', 'Karen', 'Jason', 'Jill', 'Mary Ann', 'Franzi', 'Sohee']\n",
    "\n",
    "output_dict = {key:value for (key, value) in zip(name, number)}\n",
    "print(output_dict)"
   ]
  },
  {
   "cell_type": "markdown",
   "metadata": {},
   "source": [
    "### <span id=\"06\">When to use or not use comprehension</span>\n",
    "\n",
    "Once you have the basics of comprehension, you can use it to do some powerful things. For example, maybe you want to find the sum of every value from 1 to 100.\n",
    "\n",
    "With comprehension, you can create a list of all of those numbers, and add them—all in one line."
   ]
  },
  {
   "cell_type": "code",
   "execution_count": 19,
   "metadata": {},
   "outputs": [
    {
     "name": "stdout",
     "output_type": "stream",
     "text": [
      "4950\n"
     ]
    }
   ],
   "source": [
    "#creating a list with every number from 1-100, then adding them\n",
    "total = sum([x for x in range(100)])\n",
    "print(total)"
   ]
  },
  {
   "cell_type": "markdown",
   "metadata": {},
   "source": [
    "But the way comprehension works is by creating the list on the backend first, then actually going and adding them. So if you are creating a huge list with a lot of numbers, or you have a very large dataset, it may take your computer a long time to process! This uses up memory and generally isn't good for performance.\n",
    "\n",
    "So if you wanted to find the sum of every number from 1 to 1000000000, comprehension might use a lot of your computer's memory. (As I type this, I just got a notice that I'm running out of physical and virtual memory!)"
   ]
  },
  {
   "cell_type": "code",
   "execution_count": 20,
   "metadata": {},
   "outputs": [
    {
     "name": "stdout",
     "output_type": "stream",
     "text": [
      "499999999500000000\n"
     ]
    }
   ],
   "source": [
    "#creating a list with every number from 1-1000000000, then adding them\n",
    "#that's a lot of numbers!\n",
    "total = sum([x for x in range(1000000000)])\n",
    "print(total)"
   ]
  },
  {
   "cell_type": "markdown",
   "metadata": {},
   "source": [
    "Another reason you might not want to use comprehension is if you're trying to do too many things in the same line. It'll work fine, but it's not the cleanest code—and if you go back and look at it later you might be confused about what exactly you were trying to do. It also makes it harder to add step-by-step comments.\n",
    "\n",
    "For example, say we have a nested list that we're trying to convert into a single list:"
   ]
  },
  {
   "cell_type": "code",
   "execution_count": 35,
   "metadata": {},
   "outputs": [
    {
     "name": "stdout",
     "output_type": "stream",
     "text": [
      "[1, 2, 3, 'a', 'b', 'c', 'hello', 'greetings', 'hi']\n"
     ]
    }
   ],
   "source": [
    "nested_list = [[1, 2, 3],['a', 'b', 'c'],['hello','greetings','hi']]\n",
    "#creating a list that takes each variable in each row in the previous list, and puts it in a new list\n",
    "oneline_list = [i for row in nested_list for i in row]\n",
    "print(oneline_list)"
   ]
  },
  {
   "cell_type": "markdown",
   "metadata": {},
   "source": [
    "In this case, it might be more useful to just use a for loop, so you can see how exactly the nesting is working."
   ]
  },
  {
   "cell_type": "code",
   "execution_count": 37,
   "metadata": {},
   "outputs": [
    {
     "name": "stdout",
     "output_type": "stream",
     "text": [
      "[1, 2, 3, 'a', 'b', 'c', 'hello', 'greetings', 'hi']\n"
     ]
    }
   ],
   "source": [
    "nested_list = [[1, 2, 3],['a', 'b', 'c'],['hello','greetings','hi']]\n",
    "oneline_list=[]\n",
    "for row in nested_list:\n",
    "    for i in row:\n",
    "        oneline_list.append(i)\n",
    "print(oneline_list)"
   ]
  }
 ],
 "metadata": {
  "kernelspec": {
   "display_name": "Python 3",
   "language": "python",
   "name": "python3"
  },
  "language_info": {
   "codemirror_mode": {
    "name": "ipython",
    "version": 3
   },
   "file_extension": ".py",
   "mimetype": "text/x-python",
   "name": "python",
   "nbconvert_exporter": "python",
   "pygments_lexer": "ipython3",
   "version": "3.7.4"
  }
 },
 "nbformat": 4,
 "nbformat_minor": 2
}
