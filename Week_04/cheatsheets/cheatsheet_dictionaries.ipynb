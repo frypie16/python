{
 "cells": [
  {
   "cell_type": "markdown",
   "metadata": {},
   "source": [
    "# Dictionaries\n",
    "1. [Definition](#section_1)\n",
    "2. [Creating Dictionaries](#section_2)\n",
    "3. [Accessing, Updating/Adding, and Removing Items](#section_3)\n",
    "4. [Membership Testing](#section_4)\n",
    "5. [Iterating](#section_5)\n",
    "6. [Resources](#section_6)"
   ]
  },
  {
   "cell_type": "markdown",
   "metadata": {},
   "source": [
    "<a id='section_1'></a>\n",
    "## __Definition__\n",
    "\n",
    "Python dictionaries are collection data types that store unordered key value pairs\n",
    "\n",
    "* __Dictionaries__:\n",
    "    * are *__mutable__*\n",
    "    * can be declared with *__curly brackets {}__* or with the built-in *__dict()__* method\n",
    "* __Keys__:\n",
    "    * must be of *__immutable type__* such as, tuples, strings, and numbers\n",
    "* __Values__:\n",
    "    * can be of *__any type__* such as, tuples, strings, numbers, lists, and other dictionaries\n",
    "\n",
    "* __In the lecture we went over following methods__:\n",
    "    * accessing\n",
    "    * adding, updating, and removing\n",
    "    * iterating"
   ]
  },
  {
   "cell_type": "markdown",
   "metadata": {},
   "source": [
    "<a id='section_2'></a>\n",
    "## Creating Dictionaries"
   ]
  },
  {
   "cell_type": "code",
   "execution_count": 1,
   "metadata": {},
   "outputs": [
    {
     "name": "stdout",
     "output_type": "stream",
     "text": [
      "type -  <class 'dict'> :  {}\n",
      "type -  <class 'dict'> :  {}\n"
     ]
    }
   ],
   "source": [
    "# declaring empty dictionaries with both curly brackets & dict()\n",
    "dict_1 = {}\n",
    "dict_2 = dict()\n",
    "print('type - ', type(dict_1), ': ', dict_1)\n",
    "print('type - ', type(dict_2), ': ', dict_2)"
   ]
  },
  {
   "cell_type": "code",
   "execution_count": 2,
   "metadata": {},
   "outputs": [
    {
     "name": "stdout",
     "output_type": "stream",
     "text": [
      "{1: 'apple', 2: 'lemons'}\n"
     ]
    }
   ],
   "source": [
    "# declaring dictionary with key: value pairs using curly brackets\n",
    "my_dict = {1: 'apple', 2: 'lemons'}\n",
    "print(my_dict)"
   ]
  },
  {
   "cell_type": "code",
   "execution_count": 3,
   "metadata": {},
   "outputs": [
    {
     "name": "stdout",
     "output_type": "stream",
     "text": [
      "{'monstera': 1, 'succulent': 2}\n",
      "{'sven': 1, 'raspberry_pi': 2}\n"
     ]
    }
   ],
   "source": [
    "# two ways of declaring dictionary with key: value pairs using dict()\n",
    "# 1: converting a list of tuples\n",
    "# the first element of the tuple becomes the key and the second becomes the value\n",
    "my_dict = dict([(\"monstera\", 1), (\"succulent\", 2)])\n",
    "print(my_dict)\n",
    "\n",
    "# 2: through keyword arguments\n",
    "my_dict = dict(sven=1, raspberry_pi=2)\n",
    "print(my_dict)"
   ]
  },
  {
   "cell_type": "markdown",
   "metadata": {},
   "source": [
    "<a id='section_3'></a>\n",
    "## __Accessing, Updating, Adding, and Removing Items__"
   ]
  },
  {
   "cell_type": "markdown",
   "metadata": {},
   "source": [
    "### Accessing items\n",
    "Accessing items in dictionaries is done through the __square bracket notation__ or __get()__"
   ]
  },
  {
   "cell_type": "code",
   "execution_count": 4,
   "metadata": {},
   "outputs": [],
   "source": [
    "favorites = {'fruit': 'peach', \n",
    "             'spread': 'nutella', \n",
    "             'colors': ['white', 'black', 'mint'], \n",
    "             'number': 2, \n",
    "             'places': {'New York': 'USA', 'Seoul': 'South Korea'}\n",
    "            }"
   ]
  },
  {
   "cell_type": "code",
   "execution_count": 5,
   "metadata": {},
   "outputs": [
    {
     "name": "stdout",
     "output_type": "stream",
     "text": [
      "peach\n",
      "nutella\n",
      "['white', 'black', 'mint']\n",
      "2\n",
      "{'New York': 'USA', 'Seoul': 'South Korea'}\n"
     ]
    }
   ],
   "source": [
    "# access items through square bracket notation\n",
    "print(favorites['fruit'])\n",
    "print(favorites['spread'])\n",
    "print(favorites['colors'])\n",
    "print(favorites['number'])\n",
    "print(favorites['places'])"
   ]
  },
  {
   "cell_type": "code",
   "execution_count": 6,
   "metadata": {},
   "outputs": [
    {
     "name": "stdout",
     "output_type": "stream",
     "text": [
      "peach\n",
      "None\n",
      "doesn't exist!\n"
     ]
    }
   ],
   "source": [
    "# access items through get()\n",
    "# get takes two arguments: the key and default\n",
    "# if the key doesn't exist, it will return the default\n",
    "# if you don't define the default, it will return None\n",
    "print(favorites.get('fruit'))\n",
    "print(favorites.get('sven'))\n",
    "print(favorites.get('name', 'doesn\\'t exist!'))"
   ]
  },
  {
   "cell_type": "code",
   "execution_count": 7,
   "metadata": {},
   "outputs": [
    {
     "name": "stdout",
     "output_type": "stream",
     "text": [
      "white\n",
      "South Korea\n"
     ]
    }
   ],
   "source": [
    "# access nested values(lists, dictionaries) through double square bracket notation\n",
    "print(favorites['colors'][0])# use indices for lists\n",
    "print(favorites['places']['Seoul'])# use keys for dictionaries"
   ]
  },
  {
   "cell_type": "code",
   "execution_count": 8,
   "metadata": {},
   "outputs": [
    {
     "name": "stdout",
     "output_type": "stream",
     "text": [
      "white\n",
      "black\n",
      "mint\n",
      "--------\n",
      "New York --> USA\n",
      "Seoul --> South Korea\n"
     ]
    }
   ],
   "source": [
    "# you can iterate through the list/dictionary values like so:\n",
    "for color in favorites['colors']:\n",
    "    print(color) # print each element of the list\n",
    "print('--------')\n",
    "\n",
    "for place in favorites['places']:\n",
    "    print(place, '-->', favorites['places'][place]) # print key & value of the dictionary"
   ]
  },
  {
   "cell_type": "markdown",
   "metadata": {},
   "source": [
    "### Update / Add items\n",
    "* Using __update()__:\n",
    "    * you can pass in *__another dictionary__* ex) favorites.update({'instructor': 'Sven'})\n",
    "    * or you can pass in *__keyword arguments__* ex) favorites.update(instructor='Sven')\n",
    "    * if you add a _new key that is currently not in the dictionary_, the update method will add the new pair/s to the dictionary\n",
    "    * if you pass in an _existing key but with a different value_, the update method will reassign the value of that key\n",
    "    * update() can take in as many key/value pairs as you desire\n",
    "* Using the __square bracket notation []__:\n",
    "    * unlike update(), square bracket notation can update/add one key/value pair at a time\n",
    "    * you can use the square bracket notation to access the value and ressign a new value to that key\n",
    "    * you can also use it to add a new key/value pair\n",
    "\n",
    "\n",
    "__Remember: you cannot update keys!__ unlike values, you can't access keys to update them on the spot. if there is a key you need to change, you will need to remove that key and add a new one."
   ]
  },
  {
   "cell_type": "code",
   "execution_count": 9,
   "metadata": {},
   "outputs": [
    {
     "name": "stdout",
     "output_type": "stream",
     "text": [
      "{'fruit': 'peach', 'spread': 'nutella', 'colors': ['white', 'black', 'mint'], 'number': 2, 'places': {'New York': 'USA', 'Seoul': 'South Korea'}, 'food': 'chicken tenders'}\n",
      "--------\n",
      "{'fruit': 'peach', 'spread': 'nutella', 'colors': ['white', 'black', 'mint'], 'number': 2, 'places': {'New York': 'USA', 'Seoul': 'South Korea'}, 'food': 'buttered toast'}\n"
     ]
    }
   ],
   "source": [
    "# add new key/value pair using the update method\n",
    "favorites.update({'food': 'chicken tenders'}) \n",
    "print(favorites)\n",
    "print('--------')\n",
    "\n",
    "# update a value using the update method\n",
    "favorites.update(food='buttered toast')\n",
    "print(favorites)"
   ]
  },
  {
   "cell_type": "code",
   "execution_count": 10,
   "metadata": {},
   "outputs": [
    {
     "name": "stdout",
     "output_type": "stream",
     "text": [
      "{'fruit': 'peach', 'spread': 'nutella', 'colors': ['white', 'black', 'mint'], 'number': 2, 'places': {'New York': 'USA', 'Seoul': 'South Korea'}, 'food': 'buttered toast', 'book': 'The Picture of Dorian Gray'}\n",
      "--------\n",
      "{'fruit': 'peach', 'spread': 'nutella', 'colors': ['white', 'black', 'mint'], 'number': 77, 'places': {'New York': 'USA', 'Seoul': 'South Korea'}, 'food': 'buttered toast', 'book': 'The Picture of Dorian Gray'}\n"
     ]
    }
   ],
   "source": [
    "# add new key/value pair using the square bracket notation\n",
    "favorites['book'] = 'The Picture of Dorian Gray'\n",
    "print(favorites)\n",
    "print('--------')\n",
    "\n",
    "# update a value using the square bracket notation\n",
    "favorites['number'] = 77\n",
    "print(favorites)"
   ]
  },
  {
   "cell_type": "markdown",
   "metadata": {},
   "source": [
    "### Removing items\n",
    "* You can remove key: value pairs or dictionaries with built-in dictionary methods:\n",
    "    * __pop()__: removes a particular item and returns the value\n",
    "    * __popitem()__: removes an arbitrary item and returns (key,value) in a tuple\n",
    "    * __clear()__: removes all items in the dictionary\n",
    "    * __del__: used to remove an item or to delete an entire dictionary"
   ]
  },
  {
   "cell_type": "code",
   "execution_count": 11,
   "metadata": {},
   "outputs": [
    {
     "name": "stdout",
     "output_type": "stream",
     "text": [
      "peach\n",
      "---------\n",
      "{'spread': 'nutella', 'colors': ['white', 'black', 'mint'], 'number': 77, 'places': {'New York': 'USA', 'Seoul': 'South Korea'}, 'food': 'buttered toast', 'book': 'The Picture of Dorian Gray'}\n"
     ]
    }
   ],
   "source": [
    "# continuing with the favorites dictionary defined at the top\n",
    "# to remove a specific key/value pair, use pop()\n",
    "# pop() will also return the value of the pair you are removing\n",
    "# you can store that value in a variable if needed\n",
    "fruit = favorites.pop('fruit')\n",
    "print(fruit)\n",
    "print('---------')\n",
    "\n",
    "# now the key/value 'fruit': 'peach' is removed from the dictionary\n",
    "print(favorites)"
   ]
  },
  {
   "cell_type": "code",
   "execution_count": 12,
   "metadata": {},
   "outputs": [
    {
     "name": "stdout",
     "output_type": "stream",
     "text": [
      "{'spread': 'nutella', 'colors': ['white', 'black', 'mint'], 'places': {'New York': 'USA', 'Seoul': 'South Korea'}, 'food': 'buttered toast', 'book': 'The Picture of Dorian Gray'}\n"
     ]
    }
   ],
   "source": [
    "# you can also use the keyword del to remove a specific pair\n",
    "# del will not return the value of the pair you are removing\n",
    "\n",
    "del favorites['number']\n",
    "\n",
    "# check to see that the pair is removed\n",
    "print(favorites)"
   ]
  },
  {
   "cell_type": "code",
   "execution_count": 13,
   "metadata": {},
   "outputs": [
    {
     "name": "stdout",
     "output_type": "stream",
     "text": [
      "('book', 'The Picture of Dorian Gray')\n",
      "---------\n",
      "{'spread': 'nutella', 'colors': ['white', 'black', 'mint'], 'places': {'New York': 'USA', 'Seoul': 'South Korea'}, 'food': 'buttered toast'}\n"
     ]
    }
   ],
   "source": [
    "# to remove an arbitrary key/value pair, use popitem()\n",
    "# it returns the key and value of the removed pair in a tuple\n",
    "# you can also store this value in a variable if needed\n",
    "random = favorites.popitem()\n",
    "print(random)\n",
    "print('---------')\n",
    "\n",
    "# check to see that the pair is removed\n",
    "print(favorites)"
   ]
  },
  {
   "cell_type": "code",
   "execution_count": 14,
   "metadata": {},
   "outputs": [
    {
     "name": "stdout",
     "output_type": "stream",
     "text": [
      "{}\n"
     ]
    }
   ],
   "source": [
    "# to clear the entire items in the dictionary, use clear()\n",
    "favorites.clear()\n",
    "# should print an empty dictionary\n",
    "print(favorites)"
   ]
  },
  {
   "cell_type": "code",
   "execution_count": 15,
   "metadata": {},
   "outputs": [
    {
     "ename": "NameError",
     "evalue": "name 'favorites' is not defined",
     "output_type": "error",
     "traceback": [
      "\u001b[0;31m---------------------------------------------------------------------------\u001b[0m",
      "\u001b[0;31mNameError\u001b[0m                                 Traceback (most recent call last)",
      "\u001b[0;32m<ipython-input-15-08b7d517c846>\u001b[0m in \u001b[0;36m<module>\u001b[0;34m\u001b[0m\n\u001b[1;32m      2\u001b[0m \u001b[0;32mdel\u001b[0m \u001b[0mfavorites\u001b[0m\u001b[0;34m\u001b[0m\u001b[0;34m\u001b[0m\u001b[0m\n\u001b[1;32m      3\u001b[0m \u001b[0;31m# this print should return a NameError since favorites has been deleted!\u001b[0m\u001b[0;34m\u001b[0m\u001b[0;34m\u001b[0m\u001b[0;34m\u001b[0m\u001b[0m\n\u001b[0;32m----> 4\u001b[0;31m \u001b[0mprint\u001b[0m\u001b[0;34m(\u001b[0m\u001b[0mfavorites\u001b[0m\u001b[0;34m)\u001b[0m\u001b[0;34m\u001b[0m\u001b[0;34m\u001b[0m\u001b[0m\n\u001b[0m",
      "\u001b[0;31mNameError\u001b[0m: name 'favorites' is not defined"
     ]
    }
   ],
   "source": [
    "# to delete the dictionary, use the keyword del\n",
    "del favorites\n",
    "# this print should return a NameError since favorites has been deleted!\n",
    "print(favorites)"
   ]
  },
  {
   "cell_type": "markdown",
   "metadata": {},
   "source": [
    "<a id='section_4'></a>\n",
    "## __Membership Testing__\n",
    "\n",
    "* You can test if a key is in a dictionary or not using the keywords __in__ or __not in__ \n",
    "* These keywords will return boolean values\n",
    "* The membership test is *only for the keys* and not for the values"
   ]
  },
  {
   "cell_type": "code",
   "execution_count": 16,
   "metadata": {},
   "outputs": [],
   "source": [
    "# new dictionary\n",
    "svens_tas = {\n",
    "    'Fifi': 1, \n",
    "    'Lan':2, \n",
    "    'Anna': 3, \n",
    "    'Shirley': 4, \n",
    "    'Karen': 5, \n",
    "    'Jason': 6,\n",
    "    'Jill': 7, \n",
    "    'Mary Ann': 8, \n",
    "    'Franzi': 9, \n",
    "    'Sohee': 10\n",
    "    }"
   ]
  },
  {
   "cell_type": "code",
   "execution_count": 17,
   "metadata": {},
   "outputs": [
    {
     "name": "stdout",
     "output_type": "stream",
     "text": [
      "True\n",
      "False\n",
      "False\n",
      "True\n",
      "False\n"
     ]
    }
   ],
   "source": [
    "print('Lan' in svens_tas)\n",
    "print('franzi' in svens_tas) # capitalization matters!\n",
    "print('Sohee' not in svens_tas)\n",
    "print('John' not in svens_tas)\n",
    "print('Sven' in svens_tas)"
   ]
  },
  {
   "cell_type": "markdown",
   "metadata": {},
   "source": [
    "<a id='section_5'></a>\n",
    "## __Iterating__\n",
    "* you can iterate through dictionaries like lists, tuples, and sets"
   ]
  },
  {
   "cell_type": "code",
   "execution_count": 18,
   "metadata": {
    "scrolled": true
   },
   "outputs": [
    {
     "name": "stdout",
     "output_type": "stream",
     "text": [
      "Fifi\n",
      "Lan\n",
      "Anna\n",
      "Shirley\n",
      "Karen\n",
      "Jason\n",
      "Jill\n",
      "Mary Ann\n",
      "Franzi\n",
      "Sohee\n"
     ]
    }
   ],
   "source": [
    "# iterating through the dictionary above using a for loop\n",
    "# this will only loop through the keys in the dictionary\n",
    "for ta in svens_tas:\n",
    "    print(ta)"
   ]
  },
  {
   "cell_type": "code",
   "execution_count": 19,
   "metadata": {},
   "outputs": [
    {
     "name": "stdout",
     "output_type": "stream",
     "text": [
      "Fifi --> 1\n",
      "Lan --> 2\n",
      "Anna --> 3\n",
      "Shirley --> 4\n",
      "Karen --> 5\n",
      "Jason --> 6\n",
      "Jill --> 7\n",
      "Mary Ann --> 8\n",
      "Franzi --> 9\n",
      "Sohee --> 10\n"
     ]
    }
   ],
   "source": [
    "# use the square bracket notation to call the values in the loop:\n",
    "for ta in svens_tas:\n",
    "    print(ta, '-->', svens_tas[ta])"
   ]
  },
  {
   "cell_type": "markdown",
   "metadata": {},
   "source": [
    "* because dictionary items have two parts to them, key & value, it's useful to know the following built-in dictionary methods that will help us unpack our dictionary items\n",
    "    * __items()__: returns a new view of the dictionary’s items in a list of tuples\n",
    "    * __keys()__: returns a new view of the dictionary’s keys in a list\n",
    "    * __values()__: returns a new view of the dictionary’s values in a list\n",
    "* _these methods are not only used for iterating. you can use them whenever you need to!_"
   ]
  },
  {
   "cell_type": "code",
   "execution_count": 21,
   "metadata": {},
   "outputs": [
    {
     "name": "stdout",
     "output_type": "stream",
     "text": [
      "dict_items([('Fifi', 1), ('Lan', 2), ('Anna', 3), ('Shirley', 4), ('Karen', 5), ('Jason', 6), ('Jill', 7), ('Mary Ann', 8), ('Franzi', 9), ('Sohee', 10)])\n",
      "--------\n",
      "dict_keys(['Fifi', 'Lan', 'Anna', 'Shirley', 'Karen', 'Jason', 'Jill', 'Mary Ann', 'Franzi', 'Sohee'])\n",
      "--------\n",
      "dict_values([1, 2, 3, 4, 5, 6, 7, 8, 9, 10])\n"
     ]
    }
   ],
   "source": [
    "# get key/value pairs with items()\n",
    "print(svens_tas.items())\n",
    "print('--------')\n",
    "\n",
    "# get keys with keys()\n",
    "print(svens_tas.keys())\n",
    "print('--------')\n",
    "\n",
    "# get values with values()\n",
    "print(svens_tas.values())"
   ]
  },
  {
   "cell_type": "markdown",
   "metadata": {},
   "source": [
    "* we can now use these methods to iterate through the dictionary!"
   ]
  },
  {
   "cell_type": "code",
   "execution_count": 22,
   "metadata": {},
   "outputs": [
    {
     "name": "stdout",
     "output_type": "stream",
     "text": [
      "('Fifi', 1)\n",
      "<class 'tuple'>\n",
      "('Lan', 2)\n",
      "<class 'tuple'>\n",
      "('Anna', 3)\n",
      "<class 'tuple'>\n",
      "('Shirley', 4)\n",
      "<class 'tuple'>\n",
      "('Karen', 5)\n",
      "<class 'tuple'>\n",
      "('Jason', 6)\n",
      "<class 'tuple'>\n",
      "('Jill', 7)\n",
      "<class 'tuple'>\n",
      "('Mary Ann', 8)\n",
      "<class 'tuple'>\n",
      "('Franzi', 9)\n",
      "<class 'tuple'>\n",
      "('Sohee', 10)\n",
      "<class 'tuple'>\n"
     ]
    }
   ],
   "source": [
    "# iterating with items()\n",
    "# you'll see that each ta is a tuple\n",
    "for ta in svens_tas.items():\n",
    "    print(ta)\n",
    "    print(type(ta))"
   ]
  },
  {
   "cell_type": "code",
   "execution_count": 23,
   "metadata": {},
   "outputs": [
    {
     "name": "stdout",
     "output_type": "stream",
     "text": [
      "Fifi :  1\n",
      "Lan :  2\n",
      "Anna :  3\n",
      "Shirley :  4\n",
      "Karen :  5\n",
      "Jason :  6\n",
      "Jill :  7\n",
      "Mary Ann :  8\n",
      "Franzi :  9\n",
      "Sohee :  10\n"
     ]
    }
   ],
   "source": [
    "# you can unpack the tuples by putting two variables instead of one\n",
    "for ta, number in svens_tas.items():\n",
    "    print(ta, ': ', number)"
   ]
  },
  {
   "cell_type": "code",
   "execution_count": 24,
   "metadata": {},
   "outputs": [
    {
     "name": "stdout",
     "output_type": "stream",
     "text": [
      "Fifi\n",
      "Lan\n",
      "Anna\n",
      "Shirley\n",
      "Karen\n",
      "Jason\n",
      "Jill\n",
      "Mary Ann\n",
      "Franzi\n",
      "Sohee\n"
     ]
    }
   ],
   "source": [
    "# iterating through keys using keys()\n",
    "for ta in svens_tas.keys():\n",
    "    print(ta)"
   ]
  },
  {
   "cell_type": "code",
   "execution_count": 25,
   "metadata": {},
   "outputs": [
    {
     "name": "stdout",
     "output_type": "stream",
     "text": [
      "Fifi --> 1\n",
      "Lan --> 2\n",
      "Anna --> 3\n",
      "Shirley --> 4\n",
      "Karen --> 5\n",
      "Jason --> 6\n",
      "Jill --> 7\n",
      "Mary Ann --> 8\n",
      "Franzi --> 9\n",
      "Sohee --> 10\n"
     ]
    }
   ],
   "source": [
    "# you can use the square bracket notation to call the values like before\n",
    "for ta in svens_tas.keys():\n",
    "    print(ta, '-->', svens_tas[ta])"
   ]
  },
  {
   "cell_type": "code",
   "execution_count": 26,
   "metadata": {},
   "outputs": [
    {
     "name": "stdout",
     "output_type": "stream",
     "text": [
      "1\n",
      "2\n",
      "3\n",
      "4\n",
      "5\n",
      "6\n",
      "7\n",
      "8\n",
      "9\n",
      "10\n"
     ]
    }
   ],
   "source": [
    "# iterating through values using values()\n",
    "for number in svens_tas.values():\n",
    "    print(number)"
   ]
  },
  {
   "cell_type": "markdown",
   "metadata": {},
   "source": [
    "<a id='section_6'></a>\n",
    "## Resources\n",
    "We covered the basics of Python dictionaries. There's a lot more to learn so please check out the other documentations below:\n",
    "* [Python.org Dictionaries]('https://docs.python.org/3/tutorial/datastructures.html#dictionaries')\n",
    "* [Real Python Dictionaries]('https://realpython.com/python-dicts/')\n",
    "* [GeeksforGeeks Dictionaries]('https://www.geeksforgeeks.org/python-dictionary/')"
   ]
  },
  {
   "cell_type": "code",
   "execution_count": null,
   "metadata": {},
   "outputs": [],
   "source": []
  }
 ],
 "metadata": {
  "kernelspec": {
   "display_name": "Python 3",
   "language": "python",
   "name": "python3"
  },
  "language_info": {
   "codemirror_mode": {
    "name": "ipython",
    "version": 3
   },
   "file_extension": ".py",
   "mimetype": "text/x-python",
   "name": "python",
   "nbconvert_exporter": "python",
   "pygments_lexer": "ipython3",
   "version": "3.7.4"
  }
 },
 "nbformat": 4,
 "nbformat_minor": 2
}
